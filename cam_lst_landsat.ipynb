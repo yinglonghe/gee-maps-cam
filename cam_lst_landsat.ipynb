{
 "cells": [
  {
   "cell_type": "markdown",
   "id": "23b7045d-109a-4f34-a8c7-8e7b6b4836b9",
   "metadata": {
    "tags": []
   },
   "source": [
    "## Install Earth Engine API and geemap\n",
    "Install the [Earth Engine Python API](https://developers.google.com/earth-engine/python_install) and [geemap](https://geemap.org). The **geemap** Python package is built upon the [ipyleaflet](https://github.com/jupyter-widgets/ipyleaflet) and [folium](https://github.com/python-visualization/folium) packages and implements several methods for interacting with Earth Engine data layers, such as `Map.addLayer()`, `Map.setCenter()`, and `Map.centerObject()`.\n",
    "The following script checks if the geemap package has been installed. If not, it will install geemap, which automatically installs its [dependencies](https://github.com/giswqs/geemap#dependencies), including earthengine-api, folium, and ipyleaflet."
   ]
  },
  {
   "cell_type": "code",
   "execution_count": null,
   "id": "184b792c-8b99-4146-a282-968539d639c2",
   "metadata": {},
   "outputs": [],
   "source": [
    "# Installs geemap package\n",
    "import subprocess\n",
    "\n",
    "try:\n",
    "    import geemap\n",
    "except ImportError:\n",
    "    print('Installing geemap ...')\n",
    "    subprocess.check_call([\"python\", '-m', 'pip', 'install', 'geemap'])"
   ]
  },
  {
   "cell_type": "code",
   "execution_count": 1,
   "id": "89a6d74d-54ac-46d3-ac51-91c3d164a5c5",
   "metadata": {},
   "outputs": [],
   "source": [
    "import ee\n",
    "import geemap\n",
    "import pprint\n",
    "\n",
    "# ee.Authenticate()\n",
    "ee.Initialize()"
   ]
  },
  {
   "cell_type": "markdown",
   "id": "77e2f4aa-fa76-4946-9485-5f310d0cfb5c",
   "metadata": {},
   "source": [
    "## Create an interactive map \n",
    "The default basemap is `Google Maps`. [Additional basemaps](https://github.com/giswqs/geemap/blob/master/geemap/basemaps.py) can be added using the `Map.add_basemap()` function. "
   ]
  },
  {
   "cell_type": "markdown",
   "id": "e56d69dd-6b00-4844-8867-072c84858df7",
   "metadata": {},
   "source": [
    "## Load Landsat Collection for Specified Region"
   ]
  },
  {
   "cell_type": "code",
   "execution_count": 2,
   "id": "37a8c245-e8a4-4d6f-9053-688c0d5eb1bd",
   "metadata": {},
   "outputs": [
    {
     "name": "stdout",
     "output_type": "stream",
     "text": [
      "{'bands': [],\n",
      " 'features': [{'bands': [...],\n",
      "               'id': 'LANDSAT/LC08/C01/T1_SR/LC08_201024_20191209',\n",
      "               'properties': {...},\n",
      "               'type': 'Image',\n",
      "               'version': 1577007323417271}],\n",
      " 'type': 'ImageCollection'}\n"
     ]
    }
   ],
   "source": [
    "import os\n",
    "os.environ['PROJ_LIB'] = r'/mnt/lustre/a2fs-work3/work/e283/e283/leitm/yhe/venv/miniconda3/envs/jupyter-gee/share/proj'\n",
    "\n",
    "import sys\n",
    "sys.path.insert(0, \"./lst_cam_modules\")\n",
    "\n",
    "import utils, Landsat_LST\n",
    "\n",
    "# Create coordinates CSV file (id, lat, lon) & upload to gee assets\n",
    "# geometry = utils.getGeometry('users/yhephd/coords/coord_cambridge')\n",
    "\n",
    "geo_shp = './data/cambridge/shp/cambridge_district.shp'\n",
    "# geo_shp = './data/cambridge/shp/cambridge_wards.shp'\n",
    "geometry = geemap.shp_to_ee(geo_shp).geometry()\n",
    "\n",
    "satellite = 'L8'\n",
    "date_start = '2019-12-01'\n",
    "date_end = '2019-12-31'\n",
    "use_ndvi = True\n",
    "use_cloudmask = False\n",
    "cloudlimit = 25\n",
    "\n",
    "# get landsat collection with added variables: NDVI, FVC, TPW, EM, LST\n",
    "LandsatColl = Landsat_LST.collection(satellite, date_start, date_end, geometry, use_ndvi, use_cloudmask, cloudlimit)\n",
    "\n",
    "pp = pprint.PrettyPrinter(depth=3)\n",
    "pp.pprint(LandsatColl.getInfo())"
   ]
  },
  {
   "cell_type": "markdown",
   "id": "efd174e3-3c70-4c90-804e-c5e8fc9efc98",
   "metadata": {},
   "source": [
    "## Select a Landsat Image for processing"
   ]
  },
  {
   "cell_type": "code",
   "execution_count": 3,
   "id": "c1c6a96f-ef06-43d8-b412-ade4d620cb6a",
   "metadata": {},
   "outputs": [
    {
     "name": "stdout",
     "output_type": "stream",
     "text": [
      "{'bands': [...],\n",
      " 'id': 'LANDSAT/LC08/C01/T1_SR/LC08_201024_20191209',\n",
      " 'properties': {...},\n",
      " 'type': 'Image',\n",
      " 'version': 1577007323417271}\n"
     ]
    },
    {
     "data": {
      "application/vnd.jupyter.widget-view+json": {
       "model_id": "8a53087b30384bfa994c6f23bb33e871",
       "version_major": 2,
       "version_minor": 0
      },
      "text/plain": [
       "Map(center=[52.19938147631111, 0.13295146747142955], controls=(WidgetControl(options=['position', 'transparent…"
      ]
     },
     "metadata": {},
     "output_type": "display_data"
    }
   ],
   "source": [
    "Map = geemap.Map()\n",
    "Map.centerObject(geometry, 13)\n",
    "\n",
    "visParams1 = {\n",
    "  'bands': ['B4', 'B3', 'B2'],\n",
    "  'min': 0,\n",
    "  'max': 3000,\n",
    "  'gamma': 1.4,\n",
    "}\n",
    "Map.addLayer(LandsatColl, visParams1, 'RGB_col', 1)\n",
    "\n",
    "# select the image\n",
    "listOfImages = LandsatColl.toList(LandsatColl.size())\n",
    "exImage = ee.Image(listOfImages.get(0))\n",
    "Map.addLayer(exImage, visParams1, 'RGB_img', 1)\n",
    "\n",
    "pp = pprint.PrettyPrinter(depth=1)\n",
    "pp.pprint(exImage.getInfo())\n",
    "\n",
    "Map.addLayer(geometry, {}, 'geometry', 1, 0.5)\n",
    "Map"
   ]
  },
  {
   "cell_type": "code",
   "execution_count": 4,
   "id": "1d1e9f53-b1ba-4ade-9a20-71c6402e3c4d",
   "metadata": {
    "scrolled": true,
    "tags": []
   },
   "outputs": [
    {
     "name": "stdout",
     "output_type": "stream",
     "text": [
      "{'bands': [{'crs': 'EPSG:32631',\n",
      "            'crs_transform': [...],\n",
      "            'data_type': {...},\n",
      "            'dimensions': [...],\n",
      "            'id': 'B1'},\n",
      "           {'crs': 'EPSG:32631',\n",
      "            'crs_transform': [...],\n",
      "            'data_type': {...},\n",
      "            'dimensions': [...],\n",
      "            'id': 'B2'},\n",
      "           {'crs': 'EPSG:32631',\n",
      "            'crs_transform': [...],\n",
      "            'data_type': {...},\n",
      "            'dimensions': [...],\n",
      "            'id': 'B3'},\n",
      "           {'crs': 'EPSG:32631',\n",
      "            'crs_transform': [...],\n",
      "            'data_type': {...},\n",
      "            'dimensions': [...],\n",
      "            'id': 'B4'},\n",
      "           {'crs': 'EPSG:32631',\n",
      "            'crs_transform': [...],\n",
      "            'data_type': {...},\n",
      "            'dimensions': [...],\n",
      "            'id': 'B5'},\n",
      "           {'crs': 'EPSG:32631',\n",
      "            'crs_transform': [...],\n",
      "            'data_type': {...},\n",
      "            'dimensions': [...],\n",
      "            'id': 'B6'},\n",
      "           {'crs': 'EPSG:32631',\n",
      "            'crs_transform': [...],\n",
      "            'data_type': {...},\n",
      "            'dimensions': [...],\n",
      "            'id': 'B7'},\n",
      "           {'crs': 'EPSG:32631',\n",
      "            'crs_transform': [...],\n",
      "            'data_type': {...},\n",
      "            'dimensions': [...],\n",
      "            'id': 'B10'},\n",
      "           {'crs': 'EPSG:32631',\n",
      "            'crs_transform': [...],\n",
      "            'data_type': {...},\n",
      "            'dimensions': [...],\n",
      "            'id': 'B11'},\n",
      "           {'crs': 'EPSG:32631',\n",
      "            'crs_transform': [...],\n",
      "            'data_type': {...},\n",
      "            'dimensions': [...],\n",
      "            'id': 'sr_aerosol'},\n",
      "           {'crs': 'EPSG:32631',\n",
      "            'crs_transform': [...],\n",
      "            'data_type': {...},\n",
      "            'dimensions': [...],\n",
      "            'id': 'pixel_qa'},\n",
      "           {'crs': 'EPSG:32631',\n",
      "            'crs_transform': [...],\n",
      "            'data_type': {...},\n",
      "            'dimensions': [...],\n",
      "            'id': 'radsat_qa'},\n",
      "           {'crs': 'EPSG:32631',\n",
      "            'crs_transform': [...],\n",
      "            'data_type': {...},\n",
      "            'dimensions': [...],\n",
      "            'id': 'NDVI'},\n",
      "           {'crs': 'EPSG:32631',\n",
      "            'crs_transform': [...],\n",
      "            'data_type': {...},\n",
      "            'dimensions': [...],\n",
      "            'id': 'FVC'},\n",
      "           {'crs': 'EPSG:4326',\n",
      "            'crs_transform': [...],\n",
      "            'data_type': {...},\n",
      "            'dimensions': [...],\n",
      "            'id': 'TPW',\n",
      "            'origin': [...]},\n",
      "           {'crs': 'EPSG:4326',\n",
      "            'crs_transform': [...],\n",
      "            'data_type': {...},\n",
      "            'dimensions': [...],\n",
      "            'id': 'TPWpos',\n",
      "            'origin': [...]},\n",
      "           {'crs': 'EPSG:32631',\n",
      "            'crs_transform': [...],\n",
      "            'data_type': {...},\n",
      "            'dimensions': [...],\n",
      "            'id': 'EM'},\n",
      "           {'crs': 'EPSG:32631',\n",
      "            'crs_transform': [...],\n",
      "            'data_type': {...},\n",
      "            'dimensions': [...],\n",
      "            'id': 'LST'},\n",
      "           {'crs': 'EPSG:4326',\n",
      "            'crs_transform': [...],\n",
      "            'data_type': {...},\n",
      "            'id': 'geometry'}],\n",
      " 'id': 'LANDSAT/LC08/C01/T1_SR/LC08_201024_20191209',\n",
      " 'properties': {'CLOUD_COVER': 21.7,\n",
      "                'CLOUD_COVER_LAND': 16.02,\n",
      "                'EARTH_SUN_DISTANCE': 0.984899,\n",
      "                'ESPA_VERSION': '2_23_0_1b',\n",
      "                'GEOMETRIC_RMSE_MODEL': 9.91,\n",
      "                'GEOMETRIC_RMSE_MODEL_X': 6.921,\n",
      "                'GEOMETRIC_RMSE_MODEL_Y': 7.092,\n",
      "                'IMAGE_QUALITY_OLI': 9,\n",
      "                'IMAGE_QUALITY_TIRS': 9,\n",
      "                'LANDSAT_ID': 'LC08_L1TP_201024_20191209_20191217_01_T1',\n",
      "                'LEVEL1_PRODUCTION_DATE': 1576575504000,\n",
      "                'PIXEL_QA_VERSION': 'generate_pixel_qa_1.6.0',\n",
      "                'SATELLITE': 'LANDSAT_8',\n",
      "                'SENSING_TIME': '2019-12-09T10:52:42.3399720Z',\n",
      "                'SOLAR_AZIMUTH_ANGLE': 166.315201,\n",
      "                'SOLAR_ZENITH_ANGLE': 75.565285,\n",
      "                'SR_APP_VERSION': 'LaSRC_1.3.0',\n",
      "                'WRS_PATH': 201,\n",
      "                'WRS_ROW': 24,\n",
      "                'system:asset_size': 635575782,\n",
      "                'system:footprint': {'coordinates': [...],\n",
      "                                     'type': 'LinearRing'},\n",
      "                'system:index': 'LC08_201024_20191209',\n",
      "                'system:time_end': 1575888762339,\n",
      "                'system:time_start': 1575888762339},\n",
      " 'type': 'Image',\n",
      " 'version': 1577007323417271}\n"
     ]
    }
   ],
   "source": [
    "exImage = utils.maskInside(exImage, geometry)\n",
    "pp = pprint.PrettyPrinter(depth=3)\n",
    "pp.pprint(exImage.getInfo())"
   ]
  },
  {
   "cell_type": "code",
   "execution_count": 5,
   "id": "09f74afc-4acb-402f-b268-29ba4bf07048",
   "metadata": {
    "tags": []
   },
   "outputs": [
    {
     "name": "stdout",
     "output_type": "stream",
     "text": [
      "'minLST: -2.254867007336543'\n",
      "'maxLST: 10.021135708978363'\n"
     ]
    },
    {
     "data": {
      "application/vnd.jupyter.widget-view+json": {
       "model_id": "d6682092604b4048898080ab9f1a5de4",
       "version_major": 2,
       "version_minor": 0
      },
      "text/plain": [
       "Map(center=[52.19938147631111, 0.13295146747142955], controls=(WidgetControl(options=['position', 'transparent…"
      ]
     },
     "metadata": {},
     "output_type": "display_data"
    }
   ],
   "source": [
    "Map = geemap.Map()\n",
    "Map.centerObject(geometry, 13)\n",
    "\n",
    "cmap1 = ['blue', 'cyan', 'green', 'yellow', 'red']\n",
    "cmap2 = ['F2F2F2','EFC2B3','ECB176','E9BD3A','E6E600','63C600','00A600']\n",
    "\n",
    "Map.addLayer(exImage.multiply(0.0001),{'bands': ['B4',  'B3',  'B2'], 'min':0, 'max':0.3}, 'RGB', 0)\n",
    "Map.addLayer(exImage.select('TPW'),{'min':0.0, 'max':60.0, 'palette':cmap1},'TCWV', 0)\n",
    "Map.addLayer(exImage.select('TPWpos'),{'min':0.0, 'max':9.0, 'palette':cmap1},'TCWVpos', 0)\n",
    "Map.addLayer(exImage.select('NDVI'),{'min':-1.0, 'max':1.0, 'palette':cmap2}, 'NDVI', 0)\n",
    "Map.addLayer(exImage.select('FVC'),{'min':0.0, 'max':1.0, 'palette':cmap2}, 'FVC', 0)\n",
    "Map.addLayer(exImage.select('EM'),{'min':0.9, 'max':1.0, 'palette':cmap1}, 'Emissivity', 0)\n",
    "Map.addLayer(exImage.select('B10'),{'min':277.7080505371094, 'max':287.25209350585936, 'palette':cmap1}, 'TIR BT', 0)\n",
    "\n",
    "pp = pprint.PrettyPrinter(depth=1)\n",
    "minLST = ee.Number(exImage.select('LST').reduceRegion(\n",
    "    reducer = ee.Reducer.min(), \n",
    "    geometry = geometry, \n",
    "    scale = 30, \n",
    "    maxPixels = 1e9 \n",
    ").values().get(0))\n",
    "pp.pprint('minLST: '+str(minLST.getInfo()))\n",
    "maxLST = ee.Number(exImage.select('LST').reduceRegion(\n",
    "    reducer = ee.Reducer.max(),\n",
    "    geometry = geometry,\n",
    "    scale = 30,\n",
    "    maxPixels = 1e9\n",
    ").values().get(0))\n",
    "pp.pprint('maxLST: '+str(maxLST.getInfo()))\n",
    "\n",
    "visParams3 = {\n",
    "    'min': minLST.getInfo(),\n",
    "    'max': maxLST.getInfo(),\n",
    "    'palette': ['blue', 'cyan', 'green', 'yellow', 'red'],\n",
    "}\n",
    "Map.addLayer(exImage.select('LST'),visParams3, 'LST', 1)\n",
    "Map.add_colorbar(visParams3, label='LST (C)')\n",
    "\n",
    "Map.addLayer(geometry, {}, 'geometry', 1, 0.5)\n",
    "Map"
   ]
  },
  {
   "cell_type": "markdown",
   "id": "5ba9da74-f4aa-47ff-b07a-73018d889fbf",
   "metadata": {},
   "source": [
    "## Export LST Image"
   ]
  },
  {
   "cell_type": "code",
   "execution_count": 6,
   "id": "09d6d373-1aa6-4876-973c-6500c489f197",
   "metadata": {},
   "outputs": [
    {
     "name": "stdout",
     "output_type": "stream",
     "text": [
      "Polling for task (id: 3AVJK3LDZSAJW64NOLFMXUNT).\n",
      "Polling for task (id: 3AVJK3LDZSAJW64NOLFMXUNT).\n",
      "Polling for task (id: 3AVJK3LDZSAJW64NOLFMXUNT).\n"
     ]
    }
   ],
   "source": [
    "# Export the image, specifying scale and region.\n",
    "# See GEE to check upload status\n",
    "task = ee.batch.Export.image.toDrive(**{\n",
    "  'image': exImage.select(['LST']),\n",
    "  'description': 'Cam-LC08_201024_20191209-LST_30m',\n",
    "  'folder': 'archer2gee',\n",
    "  'scale': 30,\n",
    "  'region': geometry,\n",
    "  'fileFormat': 'GeoTIFF',\n",
    "  'crs': 'EPSG:5070',\n",
    "  'maxPixels': 1e13\n",
    "})\n",
    "task.start()\n",
    "import time \n",
    "while task.active():\n",
    "  print('Polling for task (id: {}).'.format(task.id))\n",
    "  time.sleep(5)"
   ]
  },
  {
   "cell_type": "markdown",
   "id": "9dab2844-aca5-4038-b28b-861b85156492",
   "metadata": {},
   "source": [
    "## Deal with SHP Files"
   ]
  },
  {
   "cell_type": "code",
   "execution_count": null,
   "id": "9a4b8708-23ed-40dd-8abb-c0254fa67302",
   "metadata": {},
   "outputs": [],
   "source": [
    "states_shp = './data/cambridge/shp/cambridge_wards.shp'\n",
    "states = geemap.shp_to_ee(states_shp)\n",
    "\n",
    "geemap.ee_export_vector(states, filename='./outputs/cambridge/cambridge_wards.csv')\n",
    "\n",
    "Map.addLayer(states, {}, 'cambridge_wards')\n",
    "Map"
   ]
  },
  {
   "cell_type": "code",
   "execution_count": null,
   "id": "7f5eeacb-2a86-4583-bcc2-91cb18b9f89b",
   "metadata": {},
   "outputs": [],
   "source": [
    "# Import necessary modules\n",
    "import geopandas as gpd\n",
    "\n",
    "# Set filepath\n",
    "states_shp = './data/cambridge/shp/cambridge_wards.shp'\n",
    "\n",
    "# Read file using gpd.read_file()\n",
    "data = gpd.read_file(states_shp)\n",
    "# type(data)\n",
    "data.plot()\n",
    "data.head(2)"
   ]
  },
  {
   "cell_type": "code",
   "execution_count": null,
   "id": "094ca54f-1a93-4922-a01a-000fb2b1f076",
   "metadata": {},
   "outputs": [],
   "source": []
  }
 ],
 "metadata": {
  "kernelspec": {
   "display_name": "Python 3 (ipykernel)",
   "language": "python",
   "name": "python3"
  },
  "language_info": {
   "codemirror_mode": {
    "name": "ipython",
    "version": 3
   },
   "file_extension": ".py",
   "mimetype": "text/x-python",
   "name": "python",
   "nbconvert_exporter": "python",
   "pygments_lexer": "ipython3",
   "version": "3.10.5"
  }
 },
 "nbformat": 4,
 "nbformat_minor": 5
}
