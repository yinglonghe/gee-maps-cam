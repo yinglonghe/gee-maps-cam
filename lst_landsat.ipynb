{
 "cells": [
  {
   "cell_type": "markdown",
   "id": "23b7045d-109a-4f34-a8c7-8e7b6b4836b9",
   "metadata": {},
   "source": [
    "## Install Earth Engine API and geemap\n",
    "Install the [Earth Engine Python API](https://developers.google.com/earth-engine/python_install) and [geemap](https://geemap.org). The **geemap** Python package is built upon the [ipyleaflet](https://github.com/jupyter-widgets/ipyleaflet) and [folium](https://github.com/python-visualization/folium) packages and implements several methods for interacting with Earth Engine data layers, such as `Map.addLayer()`, `Map.setCenter()`, and `Map.centerObject()`.\n",
    "The following script checks if the geemap package has been installed. If not, it will install geemap, which automatically installs its [dependencies](https://github.com/giswqs/geemap#dependencies), including earthengine-api, folium, and ipyleaflet."
   ]
  },
  {
   "cell_type": "code",
   "execution_count": null,
   "id": "184b792c-8b99-4146-a282-968539d639c2",
   "metadata": {},
   "outputs": [],
   "source": [
    "# Installs geemap package\n",
    "import subprocess\n",
    "\n",
    "try:\n",
    "    import geemap\n",
    "except ImportError:\n",
    "    print('Installing geemap ...')\n",
    "    subprocess.check_call([\"python\", '-m', 'pip', 'install', 'geemap'])"
   ]
  },
  {
   "cell_type": "code",
   "execution_count": 3,
   "id": "89a6d74d-54ac-46d3-ac51-91c3d164a5c5",
   "metadata": {},
   "outputs": [],
   "source": [
    "import ee\n",
    "import geemap\n",
    "import pprint\n",
    "\n",
    "# ee.Authenticate()\n",
    "ee.Initialize()"
   ]
  },
  {
   "cell_type": "markdown",
   "id": "77e2f4aa-fa76-4946-9485-5f310d0cfb5c",
   "metadata": {},
   "source": [
    "## Create an interactive map \n",
    "The default basemap is `Google Maps`. [Additional basemaps](https://github.com/giswqs/geemap/blob/master/geemap/basemaps.py) can be added using the `Map.add_basemap()` function. "
   ]
  },
  {
   "cell_type": "code",
   "execution_count": 7,
   "id": "1bf2ff61-42e7-43ea-9b3a-4b2c4906aaaa",
   "metadata": {},
   "outputs": [
    {
     "name": "stdout",
     "output_type": "stream",
     "text": [
      "{'bands': [],\n",
      " 'features': [{'bands': [...],\n",
      "               'id': 'LANDSAT/LC08/C01/T1_SR/LC08_201024_20191209',\n",
      "               'properties': {...},\n",
      "               'type': 'Image',\n",
      "               'version': 1577007323417271}],\n",
      " 'type': 'ImageCollection'}\n"
     ]
    }
   ],
   "source": [
    "import sys\n",
    "sys.path.insert(0, \"./lst_cam_modules\")\n",
    "\n",
    "import os\n",
    "os.environ['PROJ_LIB'] = r'/mnt/lustre/a2fs-work3/work/e283/e283/leitm/yhe/venv/miniconda3/envs/jupyter-gee/share/proj'\n",
    "\n",
    "from lst_cam_modules import utils, Landsat_LST\n",
    "\n",
    "# geometry = utils.getGeometry('users/yhephd/coords/coord_cambridge')\n",
    "\n",
    "# geo_shp = './data/cambridge/shp/cambridge_district.shp'\n",
    "geo_shp = './data/cambridge/shp/cambridge_wards.shp'\n",
    "geometry = geemap.shp_to_ee(geo_shp)\n",
    "\n",
    "satellite = 'L8'\n",
    "date_start = '2019-12-01'\n",
    "date_end = '2019-12-31'\n",
    "use_ndvi = True\n",
    "use_cloudmask = False\n",
    "cloudlimit = 25\n",
    "\n",
    "# get landsat collection with added variables: NDVI, FVC, TPW, EM, LST\n",
    "LandsatColl = Landsat_LST.collection(satellite, date_start, date_end, geometry, use_ndvi, use_cloudmask, cloudlimit)\n",
    "\n",
    "pp = pprint.PrettyPrinter(depth=3)\n",
    "pp.pprint(LandsatColl.getInfo())"
   ]
  },
  {
   "cell_type": "code",
   "execution_count": 8,
   "id": "c1c6a96f-ef06-43d8-b412-ade4d620cb6a",
   "metadata": {},
   "outputs": [
    {
     "name": "stdout",
     "output_type": "stream",
     "text": [
      "{'bands': [...],\n",
      " 'id': 'LANDSAT/LC08/C01/T1_SR/LC08_201024_20191209',\n",
      " 'properties': {...},\n",
      " 'type': 'Image',\n",
      " 'version': 1577007323417271}\n"
     ]
    }
   ],
   "source": [
    "Map = geemap.Map()\n",
    "Map.centerObject(geometry, 13)\n",
    "\n",
    "visParams = {\n",
    "  'bands': ['B4', 'B3', 'B2'],\n",
    "  'min': 0,\n",
    "  'max': 3000,\n",
    "  'gamma': 1.4,\n",
    "}\n",
    "Map.addLayer(LandsatColl, visParams, 'RGB_col', 0)\n",
    "\n",
    "# select the first feature\n",
    "# exImage = LandsatColl.first()\n",
    "listOfImages = LandsatColl.toList(LandsatColl.size())\n",
    "exImage = ee.Image(listOfImages.get(0))\n",
    "Map.addLayer(exImage, visParams, 'RGB_img', 1)\n",
    "\n",
    "pp = pprint.PrettyPrinter(depth=1)\n",
    "pp.pprint(exImage.getInfo())\n",
    "# Map"
   ]
  },
  {
   "cell_type": "code",
   "execution_count": 10,
   "id": "53a81b32-2c03-47e9-8dff-64a9ec8e839a",
   "metadata": {},
   "outputs": [
    {
     "data": {
      "application/vnd.jupyter.widget-view+json": {
       "model_id": "43b164d095194588b878d456a44e9d9c",
       "version_major": 2,
       "version_minor": 0
      },
      "text/plain": [
       "Map(bottom=691130.0, center=[52.199368594649954, 0.13292313451525142], controls=(WidgetControl(options=['posit…"
      ]
     },
     "metadata": {},
     "output_type": "display_data"
    }
   ],
   "source": [
    "exImage = utils.maskInside(exImage, geometry)\n",
    "\n",
    "cmap1 = ['blue', 'cyan', 'green', 'yellow', 'red']\n",
    "cmap2 = ['F2F2F2','EFC2B3','ECB176','E9BD3A','E6E600','63C600','00A600']\n",
    "\n",
    "Map.addLayer(exImage.multiply(0.0001),{'bands': ['B4',  'B3',  'B2'], 'min':0, 'max':0.3}, 'RGB', 1)\n",
    "Map.addLayer(exImage.select('TPW'),{'min':0.0, 'max':60.0, 'palette':cmap1},'TCWV', 0)\n",
    "Map.addLayer(exImage.select('TPWpos'),{'min':0.0, 'max':9.0, 'palette':cmap1},'TCWVpos', 0)\n",
    "Map.addLayer(exImage.select('NDVI'),{'min':-1.0, 'max':1.0, 'palette':cmap2}, 'NDVI', 0)\n",
    "Map.addLayer(exImage.select('FVC'),{'min':0.0, 'max':1.0, 'palette':cmap2}, 'FVC', 0)\n",
    "Map.addLayer(exImage.select('EM'),{'min':0.9, 'max':1.0, 'palette':cmap1}, 'Emissivity', 0)\n",
    "Map.addLayer(exImage.select('B10'),{'min':277.7080505371094, 'max':287.25209350585936, 'palette':cmap1}, 'TIR BT', 0)\n",
    "Map.addLayer(exImage.select('LST'),{'min':-0.008242821473221501, 'max':8.999065923443641, 'palette':cmap1}, 'LST', 1)\n",
    "\n",
    "Map.addLayer(geometry, {}, 'geometry', 1, 0.5)\n",
    "Map"
   ]
  },
  {
   "cell_type": "code",
   "execution_count": 11,
   "id": "42344056-0139-4dc6-93b2-f9b88e175fae",
   "metadata": {},
   "outputs": [
    {
     "name": "stdout",
     "output_type": "stream",
     "text": [
      "'minLST: -2.254867007336543'\n",
      "'maxLST: 10.021135708978363'\n"
     ]
    }
   ],
   "source": [
    "pp = pprint.PrettyPrinter(depth=1)\n",
    "\n",
    "vmin = ee.Number(exImage.select('LST').reduceRegion(\n",
    "    reducer = ee.Reducer.min(), \n",
    "    geometry = geometry, \n",
    "    scale = 30, \n",
    "    maxPixels = 1e9 \n",
    ").values().get(0))\n",
    "pp.pprint('minLST: '+str(vmin.getInfo()))\n",
    "\n",
    "vmax = ee.Number(exImage.select('LST').reduceRegion(\n",
    "    reducer = ee.Reducer.max(),\n",
    "    geometry = geometry,\n",
    "    scale = 30,\n",
    "    maxPixels = 1e9\n",
    ").values().get(0))\n",
    "pp.pprint('maxLST: '+str(vmax.getInfo()))"
   ]
  },
  {
   "cell_type": "code",
   "execution_count": 15,
   "id": "09d6d373-1aa6-4876-973c-6500c489f197",
   "metadata": {},
   "outputs": [],
   "source": [
    "# Export the image, specifying scale and region.\n",
    "\n",
    "task = ee.batch.Export.image.toDrive(**{\n",
    "  'image': exImage.select(['LST']),\n",
    "  'description': 'LST_20191209_30m',\n",
    "  'folder': 'Todo',\n",
    "  'scale': 30,\n",
    "  'region': geometry,\n",
    "  'fileFormat': 'GeoTIFF',\n",
    "  'crs': 'EPSG:5070',\n",
    "  'maxPixels': 1e13\n",
    "})"
   ]
  },
  {
   "cell_type": "code",
   "execution_count": 13,
   "id": "ca474187-b396-46f9-9b89-3081ec0a91b9",
   "metadata": {},
   "outputs": [
    {
     "name": "stdout",
     "output_type": "stream",
     "text": [
      "Polling for task (id: 5LOY2BKEHKM74PGFTGC3PJPC).\n"
     ]
    }
   ],
   "source": [
    "task.start()\n",
    "import time \n",
    "while task.active():\n",
    "  print('Polling for task (id: {}).'.format(task.id))\n",
    "  time.sleep(5)"
   ]
  },
  {
   "cell_type": "code",
   "execution_count": 12,
   "id": "9a4b8708-23ed-40dd-8abb-c0254fa67302",
   "metadata": {},
   "outputs": [
    {
     "name": "stdout",
     "output_type": "stream",
     "text": [
      "Generating URL ...\n",
      "Downloading data from https://earthengine.googleapis.com/v1alpha/projects/earthengine-legacy/tables/c60e478f9484f0206f9a34a158930b70-848007934ebc70218efb1b3172967ace:getFeatures\n",
      "Please wait ...\n",
      "Data downloaded to /mnt/lustre/a2fs-work3/work/e283/e283/leitm/yhe/github/google-earth-engine/gee-maps-cam/outputs/cambridge/cambridge_wards.csv\n"
     ]
    },
    {
     "data": {
      "application/vnd.jupyter.widget-view+json": {
       "model_id": "43b164d095194588b878d456a44e9d9c",
       "version_major": 2,
       "version_minor": 0
      },
      "text/plain": [
       "Map(bottom=691130.0, center=[52.199368594649954, 0.13292313451525142], controls=(WidgetControl(options=['posit…"
      ]
     },
     "metadata": {},
     "output_type": "display_data"
    }
   ],
   "source": [
    "states_shp = './data/cambridge/shp/cambridge_wards.shp'\n",
    "states = geemap.shp_to_ee(states_shp)\n",
    "\n",
    "geemap.ee_export_vector(states, filename='./outputs/cambridge/cambridge_wards.csv')\n",
    "\n",
    "Map.addLayer(states, {}, 'cambridge_wards')\n",
    "Map"
   ]
  },
  {
   "cell_type": "code",
   "execution_count": 13,
   "id": "7f5eeacb-2a86-4583-bcc2-91cb18b9f89b",
   "metadata": {},
   "outputs": [
    {
     "data": {
      "text/html": [
       "<div>\n",
       "<style scoped>\n",
       "    .dataframe tbody tr th:only-of-type {\n",
       "        vertical-align: middle;\n",
       "    }\n",
       "\n",
       "    .dataframe tbody tr th {\n",
       "        vertical-align: top;\n",
       "    }\n",
       "\n",
       "    .dataframe thead th {\n",
       "        text-align: right;\n",
       "    }\n",
       "</style>\n",
       "<table border=\"1\" class=\"dataframe\">\n",
       "  <thead>\n",
       "    <tr style=\"text-align: right;\">\n",
       "      <th></th>\n",
       "      <th>NAME</th>\n",
       "      <th>AREA_CODE</th>\n",
       "      <th>DESCRIPTIO</th>\n",
       "      <th>FILE_NAME</th>\n",
       "      <th>NUMBER</th>\n",
       "      <th>NUMBER0</th>\n",
       "      <th>POLYGON_ID</th>\n",
       "      <th>UNIT_ID</th>\n",
       "      <th>CODE</th>\n",
       "      <th>HECTARES</th>\n",
       "      <th>AREA</th>\n",
       "      <th>TYPE_CODE</th>\n",
       "      <th>DESCRIPT0</th>\n",
       "      <th>TYPE_COD0</th>\n",
       "      <th>DESCRIPT1</th>\n",
       "      <th>EPC_kWh_m2</th>\n",
       "      <th>count</th>\n",
       "      <th>epc_save</th>\n",
       "      <th>geometry</th>\n",
       "    </tr>\n",
       "  </thead>\n",
       "  <tbody>\n",
       "    <tr>\n",
       "      <th>0</th>\n",
       "      <td>Trumpington</td>\n",
       "      <td>DIW</td>\n",
       "      <td>District Ward</td>\n",
       "      <td>CAMBRIDGESHIRE_COUNTY</td>\n",
       "      <td>5939</td>\n",
       "      <td>5939</td>\n",
       "      <td>139620</td>\n",
       "      <td>179865</td>\n",
       "      <td>E05013062</td>\n",
       "      <td>619.711</td>\n",
       "      <td>0.0</td>\n",
       "      <td>VA</td>\n",
       "      <td>CIVIL VOTING AREA</td>\n",
       "      <td>None</td>\n",
       "      <td>None</td>\n",
       "      <td>159</td>\n",
       "      <td>160</td>\n",
       "      <td>25</td>\n",
       "      <td>POLYGON ((544728.897 257284.502, 544738.799 25...</td>\n",
       "    </tr>\n",
       "    <tr>\n",
       "      <th>1</th>\n",
       "      <td>Newnham</td>\n",
       "      <td>DIW</td>\n",
       "      <td>District Ward</td>\n",
       "      <td>CAMBRIDGESHIRE_COUNTY</td>\n",
       "      <td>5940</td>\n",
       "      <td>5940</td>\n",
       "      <td>139621</td>\n",
       "      <td>179866</td>\n",
       "      <td>E05013058</td>\n",
       "      <td>485.347</td>\n",
       "      <td>0.0</td>\n",
       "      <td>VA</td>\n",
       "      <td>CIVIL VOTING AREA</td>\n",
       "      <td>None</td>\n",
       "      <td>None</td>\n",
       "      <td>263</td>\n",
       "      <td>82</td>\n",
       "      <td>34</td>\n",
       "      <td>POLYGON ((541592.302 259454.101, 541747.796 25...</td>\n",
       "    </tr>\n",
       "  </tbody>\n",
       "</table>\n",
       "</div>"
      ],
      "text/plain": [
       "          NAME AREA_CODE     DESCRIPTIO              FILE_NAME  NUMBER  \\\n",
       "0  Trumpington       DIW  District Ward  CAMBRIDGESHIRE_COUNTY    5939   \n",
       "1      Newnham       DIW  District Ward  CAMBRIDGESHIRE_COUNTY    5940   \n",
       "\n",
       "   NUMBER0  POLYGON_ID  UNIT_ID       CODE  HECTARES  AREA TYPE_CODE  \\\n",
       "0     5939      139620   179865  E05013062   619.711   0.0        VA   \n",
       "1     5940      139621   179866  E05013058   485.347   0.0        VA   \n",
       "\n",
       "           DESCRIPT0 TYPE_COD0 DESCRIPT1  EPC_kWh_m2  count  epc_save  \\\n",
       "0  CIVIL VOTING AREA      None      None         159    160        25   \n",
       "1  CIVIL VOTING AREA      None      None         263     82        34   \n",
       "\n",
       "                                            geometry  \n",
       "0  POLYGON ((544728.897 257284.502, 544738.799 25...  \n",
       "1  POLYGON ((541592.302 259454.101, 541747.796 25...  "
      ]
     },
     "execution_count": 13,
     "metadata": {},
     "output_type": "execute_result"
    },
    {
     "data": {
      "image/png": "[encoded data removed]",
      "text/plain": [
       "<Figure size 432x288 with 1 Axes>"
      ]
     },
     "metadata": {
      "needs_background": "light"
     },
     "output_type": "display_data"
    }
   ],
   "source": [
    "# Import necessary modules\n",
    "import geopandas as gpd\n",
    "\n",
    "# Set filepath\n",
    "states_shp = './data/cambridge/shp/cambridge_wards.shp'\n",
    "\n",
    "# Read file using gpd.read_file()\n",
    "data = gpd.read_file(states_shp)\n",
    "# type(data)\n",
    "data.plot()\n",
    "data.head(2)"
   ]
  },
  {
   "cell_type": "code",
   "execution_count": null,
   "id": "094ca54f-1a93-4922-a01a-000fb2b1f076",
   "metadata": {},
   "outputs": [],
   "source": []
  }
 ],
 "metadata": {
  "kernelspec": {
   "display_name": "Python 3 (ipykernel)",
   "language": "python",
   "name": "python3"
  },
  "language_info": {
   "codemirror_mode": {
    "name": "ipython",
    "version": 3
   },
   "file_extension": ".py",
   "mimetype": "text/x-python",
   "name": "python",
   "nbconvert_exporter": "python",
   "pygments_lexer": "ipython3",
   "version": "3.10.5"
  }
 },
 "nbformat": 4,
 "nbformat_minor": 5
}
