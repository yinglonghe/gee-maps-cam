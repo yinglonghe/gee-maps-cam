{
 "cells": [
  {
   "cell_type": "code",
   "execution_count": 11,
   "id": "28c0cf5e-ceb3-4a85-aa6a-e7ef9ad979ae",
   "metadata": {},
   "outputs": [],
   "source": [
    "import geemap"
   ]
  },
  {
   "cell_type": "code",
   "execution_count": 16,
   "id": "81b64f71-5862-4903-9d2d-1d8718f69d9c",
   "metadata": {},
   "outputs": [],
   "source": [
    "js_snippet = \"\"\"\n",
    "var fv =(ndvi.subtract(min).divide(max.subtract(min))).pow(ee.Number(2)).rename('FV'); \n",
    "\n",
    "\"\"\""
   ]
  },
  {
   "cell_type": "code",
   "execution_count": 17,
   "id": "3c1930c2-a91e-4540-bb20-86d6d5fb97c0",
   "metadata": {},
   "outputs": [],
   "source": [
    "geemap.js_snippet_to_py(\n",
    "    js_snippet, add_new_cell=True, import_ee=True, import_geemap=True, show_map=True\n",
    ")"
   ]
  },
  {
   "cell_type": "code",
   "execution_count": null,
   "id": "14860b18-b55a-4be5-8627-4af75c4631e9",
   "metadata": {},
   "outputs": [],
   "source": [
    "import ee\n",
    "import geemap\n",
    "\n",
    "Map = geemap.Map()\n",
    "import geemap\n",
    "\n",
    "Map = geemap.Map()\n",
    "\n",
    "fv =(ndvi.subtract(min).divide(max.subtract(min))).pow(ee.Number(2)).rename('FV')\n",
    "\n",
    "MapMap\n"
   ]
  },
  {
   "cell_type": "code",
   "execution_count": null,
   "id": "2e3f6fa1-159d-4ff8-b30b-e73081f178ef",
   "metadata": {},
   "outputs": [],
   "source": [
    "import ee\n",
    "import geemap\n",
    "\n",
    "Map = geemap.Map()\n",
    "import geemap\n",
    "\n",
    "Map = geemap.Map()\n",
    "\n",
    "# Applies scaling factors.\n",
    "def applyScaleFactors(image):\n",
    "  opticalBands = image.select('SR_B.').multiply(0.0000275).add(-0.2)\n",
    "  thermalBands = image.select('ST_B.*').multiply(0.00341802).add(149.0)\n",
    "  return image.addBands(opticalBands, None, True) \\\n",
    "              .addBands(thermalBands, None, True)\n",
    "\n",
    "dataset = dataset.map(applyScaleFactors)\n",
    "MapMap\n"
   ]
  },
  {
   "cell_type": "code",
   "execution_count": null,
   "id": "7aa37fa3-42cb-4d84-b8be-cd0da91bce90",
   "metadata": {},
   "outputs": [],
   "source": [
    "import ee\n",
    "import geemap\n",
    "\n",
    "Map = geemap.Map()\n",
    "import geemap\n",
    "\n",
    "Map = geemap.Map()\n",
    "\n",
    "ndvi = image.normalizedDifference(['SR_B5',\n",
    "'SR_B4']).rename('NDVI')\n",
    "ndviParams = {'min': -1, 'max': 1, 'palette': ['blue', 'white',\n",
    "'green']}\n",
    "print(ndvi,'ndvi')\n",
    "Map.addLayer(ndvi, ndviParams, 'ndvi')\n",
    "MapMap\n"
   ]
  },
  {
   "cell_type": "code",
   "execution_count": null,
   "id": "7582749b-7bb6-47b9-aaec-17e10f63e53a",
   "metadata": {},
   "outputs": [],
   "source": [
    "import ee\n",
    "import geemap\n",
    "\n",
    "Map = geemap.Map()\n",
    "import geemap\n",
    "\n",
    "Map = geemap.Map()\n",
    "\n",
    "def func_tvn(image):\n",
    "  date = ee.Date(image.get('system:time_start'))\n",
    "  lst = image.select('LST')\n",
    "  em = image.select('EM')\n",
    "  fvc = image.select('FVC')\n",
    "  tpw = image.select('TPW')\n",
    "  bbe = image.select('BBE')\n",
    "  return ee.Feature(geometry, {\n",
    "    'year':ee.Number(date.get('year')),\n",
    "    'month':ee.Number(date.get('month')),\n",
    "    'day':ee.Number(date.get('day')),\n",
    "    'hour':ee.Number(date.get('hour')),\n",
    "    'minute':ee.Number(date.get('minute')),\n",
    "    'lst':ee.Number(lst.reduceRegion(\n",
    "      ee.Reducer.mean(),geometry,30).get('LST')),\n",
    "    'tpw':ee.Number(tpw.reduceRegion(\n",
    "      ee.Reducer.mean(),geometry,30).get('TPW')),\n",
    "    'em':ee.Number(em.reduceRegion(\n",
    "      ee.Reducer.mean(),geometry,30).get('EM')),\n",
    "    'fvc':ee.Number(fvc.reduceRegion(\n",
    "      ee.Reducer.mean(),geometry,30).get('FVC')),\n",
    "    'bbe':ee.Number(bbe.reduceRegion(\n",
    "      ee.Reducer.mean(),geometry,30).get('BBE'))\n",
    "  })\n",
    "\n",
    "myFeatures = ee.FeatureCollection(L8coll.map(func_tvn\n",
    "))\n",
    "\n",
    "))\n",
    "\n",
    "Export.table.toDrive({\n",
    "  'collection': myFeatures,\n",
    "  'description': 'MyTask',\n",
    "  'folder': 'GEE',\n",
    "  'fileNamePrefix': 'Landsat8_LST_timeseries',\n",
    "  'fileFormat': 'CSV'\n",
    "})\n",
    "MapMap\n"
   ]
  },
  {
   "cell_type": "code",
   "execution_count": null,
   "id": "f72dfff2-5e5c-4f7b-b8a9-f747c10b8150",
   "metadata": {},
   "outputs": [],
   "source": [
    "import ee\n",
    "import geemap\n",
    "\n",
    "Map = geemap.Map()\n",
    "import geemap\n",
    "\n",
    "Map = geemap.Map()\n",
    "\n",
    "TimeSeries = ui.Chart.image.series(\n",
    "    LandsatColl, geometry, ee.Reducer.mean(), 30, 'system:time_start') \\\n",
    "        .setChartType('ScatterChart') \\\n",
    "        .setOptions({\n",
    "          'vAxis': '{title': bandname},\n",
    "          'lineWidth': 1,\n",
    "          'pointSize': 4\n",
    "})\n",
    "MapMap\n"
   ]
  },
  {
   "cell_type": "code",
   "execution_count": null,
   "id": "dd8e0ca7-d97f-45d3-9d2d-818033cc000f",
   "metadata": {},
   "outputs": [],
   "source": []
  }
 ],
 "metadata": {
  "kernelspec": {
   "display_name": "Python 3 (ipykernel)",
   "language": "python",
   "name": "python3"
  },
  "language_info": {
   "codemirror_mode": {
    "name": "ipython",
    "version": 3
   },
   "file_extension": ".py",
   "mimetype": "text/x-python",
   "name": "python",
   "nbconvert_exporter": "python",
   "pygments_lexer": "ipython3",
   "version": "3.10.5"
  }
 },
 "nbformat": 4,
 "nbformat_minor": 5
}
